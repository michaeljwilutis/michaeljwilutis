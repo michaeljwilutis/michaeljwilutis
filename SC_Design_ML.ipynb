{
 "cells": [
  {
   "cell_type": "markdown",
   "metadata": {},
   "source": [
    "# Supply Chain Distribution Network Design via Unserpervised Machine Learning"
   ]
  },
  {
   "cell_type": "markdown",
   "metadata": {},
   "source": [
    "### Import Libraries"
   ]
  },
  {
   "cell_type": "code",
   "execution_count": 1,
   "metadata": {
    "colab": {},
    "colab_type": "code",
    "id": "iXyQOJ6ZcMcY"
   },
   "outputs": [],
   "source": [
    "import pandas as pd\n",
    "import numpy as np\n",
    "import folium\n",
    "import matplotlib.pyplot as plt\n",
    "import json\n",
    "from sklearn.pipeline import make_pipeline\n",
    "from sklearn.preprocessing import StandardScaler\n",
    "from sklearn.cluster import KMeans\n",
    "from scipy.spatial.distance import cdist, pdist\n",
    "from collections import Counter\n",
    "import random\n",
    "from sklearn import metrics"
   ]
  },
  {
   "cell_type": "markdown",
   "metadata": {},
   "source": [
    "### Input data file containing customer location coordinates\n",
    "Located within root folder of repo \"customer_demand.csv\""
   ]
  },
  {
   "cell_type": "code",
   "execution_count": 2,
   "metadata": {},
   "outputs": [],
   "source": [
    "customer_locs = pd.read_csv(r'C:\\Misc\\Interview\\Data_Mining\\customer_locations.csv')"
   ]
  },
  {
   "cell_type": "markdown",
   "metadata": {},
   "source": [
    "Quick view of customer data"
   ]
  },
  {
   "cell_type": "code",
   "execution_count": 3,
   "metadata": {
    "colab": {
     "base_uri": "https://localhost:8080/",
     "height": 428
    },
    "colab_type": "code",
    "executionInfo": {
     "elapsed": 225,
     "status": "ok",
     "timestamp": 1559005157532,
     "user": {
      "displayName": "Kenneth Oshodi",
      "photoUrl": "",
      "userId": "10011680700317409399"
     },
     "user_tz": 300
    },
    "id": "6gBBkty4dnQR",
    "outputId": "ed5389d7-be48-4211-b1b2-58efec05dc46"
   },
   "outputs": [
    {
     "data": {
      "text/html": [
       "<div>\n",
       "<style scoped>\n",
       "    .dataframe tbody tr th:only-of-type {\n",
       "        vertical-align: middle;\n",
       "    }\n",
       "\n",
       "    .dataframe tbody tr th {\n",
       "        vertical-align: top;\n",
       "    }\n",
       "\n",
       "    .dataframe thead th {\n",
       "        text-align: right;\n",
       "    }\n",
       "</style>\n",
       "<table border=\"1\" class=\"dataframe\">\n",
       "  <thead>\n",
       "    <tr style=\"text-align: right;\">\n",
       "      <th></th>\n",
       "      <th>Latitude</th>\n",
       "      <th>Longitude</th>\n",
       "    </tr>\n",
       "  </thead>\n",
       "  <tbody>\n",
       "    <tr>\n",
       "      <th>0</th>\n",
       "      <td>29.654018</td>\n",
       "      <td>-82.331194</td>\n",
       "    </tr>\n",
       "    <tr>\n",
       "      <th>1</th>\n",
       "      <td>37.644394</td>\n",
       "      <td>-77.408579</td>\n",
       "    </tr>\n",
       "    <tr>\n",
       "      <th>2</th>\n",
       "      <td>42.298309</td>\n",
       "      <td>-83.277322</td>\n",
       "    </tr>\n",
       "    <tr>\n",
       "      <th>3</th>\n",
       "      <td>42.929592</td>\n",
       "      <td>-78.734828</td>\n",
       "    </tr>\n",
       "    <tr>\n",
       "      <th>4</th>\n",
       "      <td>43.101855</td>\n",
       "      <td>-75.235125</td>\n",
       "    </tr>\n",
       "  </tbody>\n",
       "</table>\n",
       "</div>"
      ],
      "text/plain": [
       "    Latitude  Longitude\n",
       "0  29.654018 -82.331194\n",
       "1  37.644394 -77.408579\n",
       "2  42.298309 -83.277322\n",
       "3  42.929592 -78.734828\n",
       "4  43.101855 -75.235125"
      ]
     },
     "execution_count": 3,
     "metadata": {},
     "output_type": "execute_result"
    }
   ],
   "source": [
    "customer_locs.head()"
   ]
  },
  {
   "cell_type": "markdown",
   "metadata": {},
   "source": [
    "### Data Cleansing & Prep"
   ]
  },
  {
   "cell_type": "code",
   "execution_count": 4,
   "metadata": {
    "colab": {
     "base_uri": "https://localhost:8080/",
     "height": 428
    },
    "colab_type": "code",
    "executionInfo": {
     "elapsed": 19855,
     "status": "ok",
     "timestamp": 1558386715101,
     "user": {
      "displayName": "Valeriya Antonova",
      "photoUrl": "",
      "userId": "02019168927901539710"
     },
     "user_tz": 300
    },
    "id": "PMJDgxiHrC4S",
    "outputId": "76e34d05-b515-4f5c-bfbd-b370a2785a74"
   },
   "outputs": [
    {
     "data": {
      "text/plain": [
       "Latitude     913\n",
       "Longitude    913\n",
       "dtype: int64"
      ]
     },
     "execution_count": 4,
     "metadata": {},
     "output_type": "execute_result"
    }
   ],
   "source": [
    "#Check record counts for each column to ensure consistency\n",
    "\n",
    "customer_locs.count()"
   ]
  },
  {
   "cell_type": "code",
   "execution_count": 5,
   "metadata": {
    "colab": {
     "base_uri": "https://localhost:8080/",
     "height": 428
    },
    "colab_type": "code",
    "executionInfo": {
     "elapsed": 19855,
     "status": "ok",
     "timestamp": 1558386715101,
     "user": {
      "displayName": "Valeriya Antonova",
      "photoUrl": "",
      "userId": "02019168927901539710"
     },
     "user_tz": 300
    },
    "id": "PMJDgxiHrC4S",
    "outputId": "76e34d05-b515-4f5c-bfbd-b370a2785a74"
   },
   "outputs": [],
   "source": [
    "#Drop rows with na value\n",
    "\n",
    "customer_locs = customer_locs.dropna()"
   ]
  },
  {
   "cell_type": "code",
   "execution_count": 6,
   "metadata": {
    "colab": {
     "base_uri": "https://localhost:8080/",
     "height": 428
    },
    "colab_type": "code",
    "executionInfo": {
     "elapsed": 19855,
     "status": "ok",
     "timestamp": 1558386715101,
     "user": {
      "displayName": "Valeriya Antonova",
      "photoUrl": "",
      "userId": "02019168927901539710"
     },
     "user_tz": 300
    },
    "id": "PMJDgxiHrC4S",
    "outputId": "76e34d05-b515-4f5c-bfbd-b370a2785a74"
   },
   "outputs": [],
   "source": [
    "#Check for duplicate customer coordinates, add duplicate indicator column and re create data frame without duplicate records\n",
    "\n",
    "customer_locs[\"is_dup\"]=customer_locs.duplicated()\n",
    "\n",
    "customer_locs = customer_locs[customer_locs['is_dup'] == False]"
   ]
  },
  {
   "cell_type": "code",
   "execution_count": 7,
   "metadata": {},
   "outputs": [
    {
     "data": {
      "text/html": [
       "<div>\n",
       "<style scoped>\n",
       "    .dataframe tbody tr th:only-of-type {\n",
       "        vertical-align: middle;\n",
       "    }\n",
       "\n",
       "    .dataframe tbody tr th {\n",
       "        vertical-align: top;\n",
       "    }\n",
       "\n",
       "    .dataframe thead th {\n",
       "        text-align: right;\n",
       "    }\n",
       "</style>\n",
       "<table border=\"1\" class=\"dataframe\">\n",
       "  <thead>\n",
       "    <tr style=\"text-align: right;\">\n",
       "      <th></th>\n",
       "      <th>Latitude</th>\n",
       "      <th>Longitude</th>\n",
       "      <th>is_dup</th>\n",
       "    </tr>\n",
       "  </thead>\n",
       "  <tbody>\n",
       "    <tr>\n",
       "      <th>0</th>\n",
       "      <td>29.654018</td>\n",
       "      <td>-82.331194</td>\n",
       "      <td>False</td>\n",
       "    </tr>\n",
       "    <tr>\n",
       "      <th>1</th>\n",
       "      <td>37.644394</td>\n",
       "      <td>-77.408579</td>\n",
       "      <td>False</td>\n",
       "    </tr>\n",
       "    <tr>\n",
       "      <th>2</th>\n",
       "      <td>42.298309</td>\n",
       "      <td>-83.277322</td>\n",
       "      <td>False</td>\n",
       "    </tr>\n",
       "    <tr>\n",
       "      <th>3</th>\n",
       "      <td>42.929592</td>\n",
       "      <td>-78.734828</td>\n",
       "      <td>False</td>\n",
       "    </tr>\n",
       "    <tr>\n",
       "      <th>4</th>\n",
       "      <td>43.101855</td>\n",
       "      <td>-75.235125</td>\n",
       "      <td>False</td>\n",
       "    </tr>\n",
       "  </tbody>\n",
       "</table>\n",
       "</div>"
      ],
      "text/plain": [
       "    Latitude  Longitude  is_dup\n",
       "0  29.654018 -82.331194   False\n",
       "1  37.644394 -77.408579   False\n",
       "2  42.298309 -83.277322   False\n",
       "3  42.929592 -78.734828   False\n",
       "4  43.101855 -75.235125   False"
      ]
     },
     "execution_count": 7,
     "metadata": {},
     "output_type": "execute_result"
    }
   ],
   "source": [
    "#Quick View of data frame\n",
    "\n",
    "customer_locs.head()"
   ]
  },
  {
   "cell_type": "code",
   "execution_count": 8,
   "metadata": {},
   "outputs": [
    {
     "data": {
      "text/plain": [
       "Latitude     882\n",
       "Longitude    882\n",
       "is_dup       882\n",
       "dtype: int64"
      ]
     },
     "execution_count": 8,
     "metadata": {},
     "output_type": "execute_result"
    }
   ],
   "source": [
    "#Verify new count\n",
    "\n",
    "customer_locs.count()"
   ]
  },
  {
   "cell_type": "code",
   "execution_count": 9,
   "metadata": {},
   "outputs": [
    {
     "data": {
      "text/html": [
       "<div>\n",
       "<style scoped>\n",
       "    .dataframe tbody tr th:only-of-type {\n",
       "        vertical-align: middle;\n",
       "    }\n",
       "\n",
       "    .dataframe tbody tr th {\n",
       "        vertical-align: top;\n",
       "    }\n",
       "\n",
       "    .dataframe thead th {\n",
       "        text-align: right;\n",
       "    }\n",
       "</style>\n",
       "<table border=\"1\" class=\"dataframe\">\n",
       "  <thead>\n",
       "    <tr style=\"text-align: right;\">\n",
       "      <th></th>\n",
       "      <th>Latitude</th>\n",
       "      <th>Longitude</th>\n",
       "    </tr>\n",
       "  </thead>\n",
       "  <tbody>\n",
       "    <tr>\n",
       "      <th>0</th>\n",
       "      <td>29.654018</td>\n",
       "      <td>-82.331194</td>\n",
       "    </tr>\n",
       "    <tr>\n",
       "      <th>1</th>\n",
       "      <td>37.644394</td>\n",
       "      <td>-77.408579</td>\n",
       "    </tr>\n",
       "    <tr>\n",
       "      <th>2</th>\n",
       "      <td>42.298309</td>\n",
       "      <td>-83.277322</td>\n",
       "    </tr>\n",
       "    <tr>\n",
       "      <th>3</th>\n",
       "      <td>42.929592</td>\n",
       "      <td>-78.734828</td>\n",
       "    </tr>\n",
       "    <tr>\n",
       "      <th>4</th>\n",
       "      <td>43.101855</td>\n",
       "      <td>-75.235125</td>\n",
       "    </tr>\n",
       "  </tbody>\n",
       "</table>\n",
       "</div>"
      ],
      "text/plain": [
       "    Latitude  Longitude\n",
       "0  29.654018 -82.331194\n",
       "1  37.644394 -77.408579\n",
       "2  42.298309 -83.277322\n",
       "3  42.929592 -78.734828\n",
       "4  43.101855 -75.235125"
      ]
     },
     "execution_count": 9,
     "metadata": {},
     "output_type": "execute_result"
    }
   ],
   "source": [
    "#Remove duplicate identifier column\n",
    "\n",
    "customer_locs = customer_locs.drop('is_dup', axis = 1)\n",
    "\n",
    "customer_locs.head()"
   ]
  },
  {
   "cell_type": "code",
   "execution_count": 10,
   "metadata": {},
   "outputs": [
    {
     "name": "stdout",
     "output_type": "stream",
     "text": [
      "<class 'pandas.core.frame.DataFrame'>\n",
      "Int64Index: 849 entries, 0 to 912\n",
      "Data columns (total 2 columns):\n",
      "Latitude     849 non-null float64\n",
      "Longitude    849 non-null float64\n",
      "dtypes: float64(2)\n",
      "memory usage: 19.9 KB\n"
     ]
    }
   ],
   "source": [
    "#Eliminate customer locations outside of North America\n",
    "\n",
    "customer_locs = customer_locs[customer_locs.Latitude > 25]\n",
    "\n",
    "customer_locs = customer_locs[customer_locs.Longitude < -60]\n",
    "\n",
    "\n",
    "customer_locs.info()"
   ]
  },
  {
   "cell_type": "code",
   "execution_count": 11,
   "metadata": {},
   "outputs": [],
   "source": [
    "#Re index data frame after removing records\n",
    "\n",
    "customer_locs = customer_locs.reset_index(drop=True)"
   ]
  },
  {
   "cell_type": "code",
   "execution_count": 12,
   "metadata": {},
   "outputs": [],
   "source": [
    "#Create customer names\n",
    "\n",
    "i=0\n",
    "\n",
    "for i in range(0,len(customer_locs)):\n",
    "    customer_locs.loc[i,'Name'] = 'C_' + str(i)\n",
    "    \n",
    "\n",
    "\n",
    "customer_locs = customer_locs.dropna()"
   ]
  },
  {
   "cell_type": "code",
   "execution_count": 13,
   "metadata": {},
   "outputs": [
    {
     "data": {
      "text/html": [
       "<div>\n",
       "<style scoped>\n",
       "    .dataframe tbody tr th:only-of-type {\n",
       "        vertical-align: middle;\n",
       "    }\n",
       "\n",
       "    .dataframe tbody tr th {\n",
       "        vertical-align: top;\n",
       "    }\n",
       "\n",
       "    .dataframe thead th {\n",
       "        text-align: right;\n",
       "    }\n",
       "</style>\n",
       "<table border=\"1\" class=\"dataframe\">\n",
       "  <thead>\n",
       "    <tr style=\"text-align: right;\">\n",
       "      <th></th>\n",
       "      <th>Latitude</th>\n",
       "      <th>Longitude</th>\n",
       "      <th>Name</th>\n",
       "    </tr>\n",
       "  </thead>\n",
       "  <tbody>\n",
       "    <tr>\n",
       "      <th>0</th>\n",
       "      <td>29.654018</td>\n",
       "      <td>-82.331194</td>\n",
       "      <td>C_0</td>\n",
       "    </tr>\n",
       "    <tr>\n",
       "      <th>1</th>\n",
       "      <td>37.644394</td>\n",
       "      <td>-77.408579</td>\n",
       "      <td>C_1</td>\n",
       "    </tr>\n",
       "    <tr>\n",
       "      <th>2</th>\n",
       "      <td>42.298309</td>\n",
       "      <td>-83.277322</td>\n",
       "      <td>C_2</td>\n",
       "    </tr>\n",
       "    <tr>\n",
       "      <th>3</th>\n",
       "      <td>42.929592</td>\n",
       "      <td>-78.734828</td>\n",
       "      <td>C_3</td>\n",
       "    </tr>\n",
       "    <tr>\n",
       "      <th>4</th>\n",
       "      <td>43.101855</td>\n",
       "      <td>-75.235125</td>\n",
       "      <td>C_4</td>\n",
       "    </tr>\n",
       "  </tbody>\n",
       "</table>\n",
       "</div>"
      ],
      "text/plain": [
       "    Latitude  Longitude Name\n",
       "0  29.654018 -82.331194  C_0\n",
       "1  37.644394 -77.408579  C_1\n",
       "2  42.298309 -83.277322  C_2\n",
       "3  42.929592 -78.734828  C_3\n",
       "4  43.101855 -75.235125  C_4"
      ]
     },
     "execution_count": 13,
     "metadata": {},
     "output_type": "execute_result"
    }
   ],
   "source": [
    "#Quick view of modified data frame\n",
    "\n",
    "customer_locs.head()"
   ]
  },
  {
   "cell_type": "code",
   "execution_count": 14,
   "metadata": {
    "colab": {
     "base_uri": "https://localhost:8080/",
     "height": 428
    },
    "colab_type": "code",
    "executionInfo": {
     "elapsed": 19855,
     "status": "ok",
     "timestamp": 1558386715101,
     "user": {
      "displayName": "Valeriya Antonova",
      "photoUrl": "",
      "userId": "02019168927901539710"
     },
     "user_tz": 300
    },
    "id": "PMJDgxiHrC4S",
    "outputId": "76e34d05-b515-4f5c-bfbd-b370a2785a74"
   },
   "outputs": [],
   "source": [
    "#Add randomly generated demand records\n",
    "\n",
    "x=0\n",
    "\n",
    "for x in range(0,len(customer_locs)):\n",
    "    customer_locs.loc[x,'Demand'] = random.randint(1,100)\n",
    "    \n",
    "\n",
    "\n",
    "customer_locs = customer_locs.dropna()\n"
   ]
  },
  {
   "cell_type": "code",
   "execution_count": 15,
   "metadata": {
    "colab": {
     "base_uri": "https://localhost:8080/",
     "height": 272
    },
    "colab_type": "code",
    "executionInfo": {
     "elapsed": 6917,
     "status": "ok",
     "timestamp": 1558386726500,
     "user": {
      "displayName": "Valeriya Antonova",
      "photoUrl": "",
      "userId": "02019168927901539710"
     },
     "user_tz": 300
    },
    "id": "2nngZY1tsPFT",
    "outputId": "169aab29-a33f-4030-df89-69468e9c2c55"
   },
   "outputs": [
    {
     "data": {
      "text/plain": [
       "Latitude     849\n",
       "Longitude    849\n",
       "Name         849\n",
       "Demand       849\n",
       "dtype: int64"
      ]
     },
     "execution_count": 15,
     "metadata": {},
     "output_type": "execute_result"
    }
   ],
   "source": [
    "#Check record counts\n",
    "customer_locs.count()"
   ]
  },
  {
   "cell_type": "markdown",
   "metadata": {},
   "source": [
    "### Isolate and create data set for modeling"
   ]
  },
  {
   "cell_type": "code",
   "execution_count": 16,
   "metadata": {},
   "outputs": [],
   "source": [
    "#Create arrays for individual columns\n",
    "\n",
    "X1 = pd.Series(customer_locs.Latitude)\n",
    "X2 = pd.Series(customer_locs.Longitude)\n",
    "X3 = pd.Series(customer_locs.Name)\n",
    "X4 = pd.Series(customer_locs.Demand)"
   ]
  },
  {
   "cell_type": "markdown",
   "metadata": {},
   "source": [
    "### Weighting of customer location based on quantity of demand \n",
    "i.e. A customer with demand quantity of 10 would repeat it's location 10 times, a demand quantity of 100 would be repeated 100 times, etc.\n",
    "The only modeling features left are the 2 dimensional coordinates replicated to represent \"demand weighting\" in KMeans"
   ]
  },
  {
   "cell_type": "code",
   "execution_count": 17,
   "metadata": {},
   "outputs": [],
   "source": [
    "#Repeat coordinates X times per total demand quantity for observation weighting in Kmeans\n",
    "w_lat = X1.repeat(round(customer_locs.Demand))\n",
    "w_lon = X2.repeat(round(customer_locs.Demand))\n",
    "\n",
    "# #Create final dataframe for modeling\n",
    "customers_wgtd = pd.concat([w_lat, w_lon], axis=1)"
   ]
  },
  {
   "cell_type": "markdown",
   "metadata": {},
   "source": [
    "### Define number of nodes (distribution centers) for model review \n",
    "i.e. 6 hubs for central density determination"
   ]
  },
  {
   "cell_type": "code",
   "execution_count": 18,
   "metadata": {},
   "outputs": [],
   "source": [
    "#Set n to number of nodes(hubs)\n",
    "n = 6"
   ]
  },
  {
   "cell_type": "markdown",
   "metadata": {},
   "source": [
    "### *Optional - Use elbow method to determine \"optimal\" number of distribution centers/clusters"
   ]
  },
  {
   "cell_type": "code",
   "execution_count": 19,
   "metadata": {},
   "outputs": [
    {
     "data": {
      "image/png": "[encoded data removed]",
      "text/plain": [
       "<Figure size 432x288 with 1 Axes>"
      ]
     },
     "metadata": {
      "needs_background": "light"
     },
     "output_type": "display_data"
    },
    {
     "data": {
      "image/png": "[encoded data removed]",
      "text/plain": [
       "<Figure size 432x288 with 1 Axes>"
      ]
     },
     "metadata": {
      "needs_background": "light"
     },
     "output_type": "display_data"
    }
   ],
   "source": [
    "#Sample plot of customer location distribution\n",
    "\n",
    "plt.plot()\n",
    "plt.xlabel('Lat')\n",
    "plt.ylabel('Long')\n",
    "plt.title('Customer Location Plot')\n",
    "plt.scatter(X1, X2)\n",
    "plt.show()\n",
    "\n",
    "\n",
    "#Run K-means with 1-10 clusters and record errors\n",
    "\n",
    "Y = []\n",
    "K = range(1,10)\n",
    "for k in K:\n",
    "    kmeanModel = KMeans(n_clusters=k).fit(customers_wgtd)\n",
    "    kmeanModel.fit(customers_wgtd)\n",
    "    Y.append(sum(np.min(cdist(customers_wgtd, kmeanModel.cluster_centers_, 'euclidean'), axis=1)) / customers_wgtd.shape[0])\n",
    "\n",
    "# Plot the K-means distortion by number of clusters/DCs\n",
    "plt.plot(K, Y, 'bx-')\n",
    "plt.xlabel('Number of DCs')\n",
    "plt.ylabel('Distortion')\n",
    "plt.title('The Elbow Method determining the optimal number of DCs')\n",
    "plt.show()\n"
   ]
  },
  {
   "cell_type": "markdown",
   "metadata": {},
   "source": [
    "Based upon the above elbow plot anywhere from 4-6 DCs would capture a reasonable amount of the model error (think 80/20 rule)."
   ]
  },
  {
   "cell_type": "markdown",
   "metadata": {},
   "source": [
    "### Execute modeling on data"
   ]
  },
  {
   "cell_type": "code",
   "execution_count": 20,
   "metadata": {},
   "outputs": [
    {
     "data": {
      "text/plain": [
       "Pipeline(memory=None,\n",
       "     steps=[('kmeans', KMeans(algorithm='auto', copy_x=True, init='k-means++', max_iter=300,\n",
       "    n_clusters=6, n_init=10, n_jobs=None, precompute_distances='auto',\n",
       "    random_state=None, tol=0.0001, verbose=0))])"
      ]
     },
     "execution_count": 20,
     "metadata": {},
     "output_type": "execute_result"
    }
   ],
   "source": [
    "#Define number of clusters and construct estimator pipeline\n",
    "kmeans1 = KMeans(n_clusters=n)\n",
    "\n",
    "pipeline1 = make_pipeline(kmeans1)\n",
    "\n",
    "#Fit pipeline to sample data\n",
    "pipeline1.fit(customers_wgtd)"
   ]
  },
  {
   "cell_type": "code",
   "execution_count": 21,
   "metadata": {},
   "outputs": [],
   "source": [
    "#Add labels to pipeline\n",
    "Labels1 = pipeline1.predict(customers_wgtd)\n",
    "\n",
    "#Take n cluster centers based on model input and create cluster and label dataframe\n",
    "\n",
    "centers = pd.DataFrame(kmeans1.cluster_centers_)\n",
    "\n",
    "df2 = pd.DataFrame({'Name': customer_locs.Name, 'Latitude': customers_wgtd.Latitude,'Longitude': customers_wgtd.Longitude, 'Cluster': Labels1} )"
   ]
  },
  {
   "cell_type": "markdown",
   "metadata": {},
   "source": [
    "### Create plot of clusters and coordinate assignment"
   ]
  },
  {
   "cell_type": "code",
   "execution_count": 22,
   "metadata": {},
   "outputs": [
    {
     "data": {
      "image/png": "[encoded data removed]",
      "text/plain": [
       "<Figure size 432x288 with 1 Axes>"
      ]
     },
     "metadata": {
      "needs_background": "light"
     },
     "output_type": "display_data"
    },
    {
     "name": "stdout",
     "output_type": "stream",
     "text": [
      "           0           1\n",
      "0  40.025145  -76.854304\n",
      "1  36.359697 -116.569174\n",
      "2  31.193429  -83.210042\n",
      "3  34.659794  -98.380416\n",
      "4  47.385737 -122.081588\n",
      "5  41.246281  -87.719832\n"
     ]
    }
   ],
   "source": [
    "#Create a basic scatter plot for review of DC clusters and assignments\n",
    "\n",
    "plt.scatter(df2.Latitude,df2.Longitude, c= df2.Cluster )\n",
    "plt.scatter(centers[0], centers[1], marker=\"x\", color='r')\n",
    "plt.xlabel(\"Latitude\")\n",
    "plt.ylabel(\"Longitude\")\n",
    "plt.show()\n",
    "\n",
    "\n",
    "#Output DC cluster coordinates\n",
    "print(centers)"
   ]
  },
  {
   "cell_type": "code",
   "execution_count": 24,
   "metadata": {},
   "outputs": [],
   "source": [
    "#Create interactive map visualization color coding cluster values and applying centroids/DC locations\n",
    "\n",
    "this_map = folium.Map(location=[41.85,-87.69], zoom_start = 8)\n",
    "\n",
    "#Loop through coordinates and apply distinct color per cluster/DC label \n",
    "\n",
    "for index, row in df2.iterrows():\n",
    "    if row['Cluster'] == 0:\n",
    "        folium.CircleMarker(location=[row[\"Latitude\"], row[\"Longitude\"]], radius = 3, color = 'red').add_to(this_map)\n",
    "        \n",
    "    if row['Cluster'] == 1:\n",
    "        folium.CircleMarker(location=[row[\"Latitude\"], row[\"Longitude\"]], radius = 3, color = 'orange').add_to(this_map)\n",
    "        \n",
    "    if row['Cluster'] == 2:\n",
    "        folium.CircleMarker(location=[row[\"Latitude\"], row[\"Longitude\"]], radius = 3, color = 'yellow').add_to(this_map)\n",
    "        \n",
    "    if row['Cluster'] == 3:\n",
    "        folium.CircleMarker(location=[row[\"Latitude\"], row[\"Longitude\"]], radius = 3, color = 'green').add_to(this_map)\n",
    "        \n",
    "    if row['Cluster'] == 4:\n",
    "        folium.CircleMarker(location=[row[\"Latitude\"], row[\"Longitude\"]], radius = 3, color = 'blue').add_to(this_map)\n",
    "        \n",
    "    if row['Cluster'] == 5:\n",
    "        folium.CircleMarker(location=[row[\"Latitude\"], row[\"Longitude\"]], radius = 3, color = 'indigo').add_to(this_map)\n",
    "        \n",
    "    if row['Cluster'] == 6:\n",
    "        folium.CircleMarker(location=[row[\"Latitude\"], row[\"Longitude\"]], radius = 3, color = 'violet').add_to(this_map)\n",
    "\n",
    "#Plot centroids for each DC/cluster\n",
    "for index, row in centers.iterrows():\n",
    "    folium.Marker(location = [row[0], row[1]], radius = 10).add_to(this_map)  \n",
    "    \n",
    "#Set map zoom position\n",
    "this_map.fit_bounds(this_map.get_bounds())\n",
    "\n",
    "#Save the map to an HTML file\n",
    "this_map.save('DC_customer_map.html')\n"
   ]
  },
  {
   "cell_type": "markdown",
   "metadata": {},
   "source": [
    "Open .html map to view a map of all customer locations and associated clusters with color coding assignment"
   ]
  }
 ],
 "metadata": {
  "colab": {
   "collapsed_sections": [],
   "name": "DataMining_Final_Project.ipynb",
   "provenance": [],
   "version": "0.3.2"
  },
  "kernelspec": {
   "display_name": "Python 3",
   "language": "python",
   "name": "python3"
  },
  "language_info": {
   "codemirror_mode": {
    "name": "ipython",
    "version": 3
   },
   "file_extension": ".py",
   "mimetype": "text/x-python",
   "name": "python",
   "nbconvert_exporter": "python",
   "pygments_lexer": "ipython3",
   "version": "3.7.3"
  }
 },
 "nbformat": 4,
 "nbformat_minor": 1
}
