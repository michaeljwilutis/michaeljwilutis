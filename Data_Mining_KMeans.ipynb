{
 "cells": [
  {
   "cell_type": "markdown",
   "metadata": {},
   "source": [
    "### Necessary Imports"
   ]
  },
  {
   "cell_type": "code",
   "execution_count": 49,
   "metadata": {
    "colab": {},
    "colab_type": "code",
    "id": "iXyQOJ6ZcMcY"
   },
   "outputs": [],
   "source": [
    "import pandas as pd\n",
    "import numpy as np\n",
    "import folium\n",
    "import matplotlib.pyplot as plt\n",
    "import json\n",
    "from sklearn.pipeline import make_pipeline\n",
    "from sklearn.preprocessing import StandardScaler\n",
    "from sklearn.cluster import KMeans\n",
    "from scipy.spatial.distance import cdist, pdist"
   ]
  },
  {
   "cell_type": "markdown",
   "metadata": {},
   "source": [
    "### Input data file containing rideshare trip origin coordinates (pickup) and associated ride fares"
   ]
  },
  {
   "cell_type": "code",
   "execution_count": 3,
   "metadata": {},
   "outputs": [],
   "source": [
    "trip = pd.read_csv(r'C:\\Misc\\Interview\\Data_Mining\\uber_trips_jan_march_2019.csv')"
   ]
  },
  {
   "cell_type": "markdown",
   "metadata": {},
   "source": [
    "### Quick view of trip data"
   ]
  },
  {
   "cell_type": "code",
   "execution_count": 4,
   "metadata": {
    "colab": {
     "base_uri": "https://localhost:8080/",
     "height": 428
    },
    "colab_type": "code",
    "executionInfo": {
     "elapsed": 225,
     "status": "ok",
     "timestamp": 1559005157532,
     "user": {
      "displayName": "Kenneth Oshodi",
      "photoUrl": "",
      "userId": "10011680700317409399"
     },
     "user_tz": 300
    },
    "id": "6gBBkty4dnQR",
    "outputId": "ed5389d7-be48-4211-b1b2-58efec05dc46"
   },
   "outputs": [
    {
     "data": {
      "text/html": [
       "<div>\n",
       "<style scoped>\n",
       "    .dataframe tbody tr th:only-of-type {\n",
       "        vertical-align: middle;\n",
       "    }\n",
       "\n",
       "    .dataframe tbody tr th {\n",
       "        vertical-align: top;\n",
       "    }\n",
       "\n",
       "    .dataframe thead th {\n",
       "        text-align: right;\n",
       "    }\n",
       "</style>\n",
       "<table border=\"1\" class=\"dataframe\">\n",
       "  <thead>\n",
       "    <tr style=\"text-align: right;\">\n",
       "      <th></th>\n",
       "      <th>Unnamed: 0</th>\n",
       "      <th>Trip Start Timestamp</th>\n",
       "      <th>Trip End Timestamp</th>\n",
       "      <th>Trip Seconds</th>\n",
       "      <th>Trip Miles</th>\n",
       "      <th>Fare</th>\n",
       "      <th>Tip</th>\n",
       "      <th>Additional Charges</th>\n",
       "      <th>Trip Total</th>\n",
       "      <th>Shared Trip Authorized</th>\n",
       "      <th>...</th>\n",
       "      <th>Pickup Centroid Longitude</th>\n",
       "      <th>Dropoff Centroid Latitude</th>\n",
       "      <th>Dropoff Centroid Longitude</th>\n",
       "      <th>m_s_ratio</th>\n",
       "      <th>t_s_ratio</th>\n",
       "      <th>value</th>\n",
       "      <th>hour</th>\n",
       "      <th>2hr_slot</th>\n",
       "      <th>3hr_slot</th>\n",
       "      <th>Pickup_Neighborhood</th>\n",
       "    </tr>\n",
       "  </thead>\n",
       "  <tbody>\n",
       "    <tr>\n",
       "      <th>0</th>\n",
       "      <td>0</td>\n",
       "      <td>2019-01-07 14:30:00</td>\n",
       "      <td>2019-01-07 14:45:00</td>\n",
       "      <td>1167.0</td>\n",
       "      <td>3.8</td>\n",
       "      <td>10.0</td>\n",
       "      <td>3.0</td>\n",
       "      <td>2.55</td>\n",
       "      <td>15.55</td>\n",
       "      <td>False</td>\n",
       "      <td>...</td>\n",
       "      <td>-87.653614</td>\n",
       "      <td>41.962179</td>\n",
       "      <td>-87.645379</td>\n",
       "      <td>0.003256</td>\n",
       "      <td>0.013325</td>\n",
       "      <td>L</td>\n",
       "      <td>14</td>\n",
       "      <td>8</td>\n",
       "      <td>5</td>\n",
       "      <td>WICKER PARK,WEST TOWN</td>\n",
       "    </tr>\n",
       "    <tr>\n",
       "      <th>1</th>\n",
       "      <td>3</td>\n",
       "      <td>2019-01-26 18:00:00</td>\n",
       "      <td>2019-01-26 18:15:00</td>\n",
       "      <td>1590.0</td>\n",
       "      <td>3.8</td>\n",
       "      <td>12.5</td>\n",
       "      <td>0.0</td>\n",
       "      <td>2.55</td>\n",
       "      <td>15.05</td>\n",
       "      <td>False</td>\n",
       "      <td>...</td>\n",
       "      <td>-87.637844</td>\n",
       "      <td>41.921877</td>\n",
       "      <td>-87.664078</td>\n",
       "      <td>0.002390</td>\n",
       "      <td>0.009465</td>\n",
       "      <td>L</td>\n",
       "      <td>18</td>\n",
       "      <td>10</td>\n",
       "      <td>7</td>\n",
       "      <td>RIVER NORTH</td>\n",
       "    </tr>\n",
       "    <tr>\n",
       "      <th>2</th>\n",
       "      <td>4</td>\n",
       "      <td>2019-02-10 17:45:00</td>\n",
       "      <td>2019-02-10 18:00:00</td>\n",
       "      <td>977.0</td>\n",
       "      <td>3.0</td>\n",
       "      <td>7.5</td>\n",
       "      <td>2.0</td>\n",
       "      <td>2.55</td>\n",
       "      <td>12.05</td>\n",
       "      <td>False</td>\n",
       "      <td>...</td>\n",
       "      <td>-87.641184</td>\n",
       "      <td>41.885281</td>\n",
       "      <td>-87.657233</td>\n",
       "      <td>0.003071</td>\n",
       "      <td>0.012334</td>\n",
       "      <td>L</td>\n",
       "      <td>17</td>\n",
       "      <td>9</td>\n",
       "      <td>6</td>\n",
       "      <td>OLD TOWN</td>\n",
       "    </tr>\n",
       "    <tr>\n",
       "      <th>3</th>\n",
       "      <td>5</td>\n",
       "      <td>2019-01-27 12:30:00</td>\n",
       "      <td>2019-01-27 12:45:00</td>\n",
       "      <td>592.0</td>\n",
       "      <td>2.0</td>\n",
       "      <td>5.0</td>\n",
       "      <td>0.0</td>\n",
       "      <td>2.55</td>\n",
       "      <td>7.55</td>\n",
       "      <td>False</td>\n",
       "      <td>...</td>\n",
       "      <td>-87.646293</td>\n",
       "      <td>41.904935</td>\n",
       "      <td>-87.649907</td>\n",
       "      <td>0.003378</td>\n",
       "      <td>0.012753</td>\n",
       "      <td>L</td>\n",
       "      <td>12</td>\n",
       "      <td>7</td>\n",
       "      <td>5</td>\n",
       "      <td>LINCOLN PARK</td>\n",
       "    </tr>\n",
       "    <tr>\n",
       "      <th>4</th>\n",
       "      <td>6</td>\n",
       "      <td>2019-03-02 16:15:00</td>\n",
       "      <td>2019-03-02 16:15:00</td>\n",
       "      <td>477.0</td>\n",
       "      <td>0.9</td>\n",
       "      <td>5.0</td>\n",
       "      <td>0.0</td>\n",
       "      <td>2.55</td>\n",
       "      <td>7.55</td>\n",
       "      <td>False</td>\n",
       "      <td>...</td>\n",
       "      <td>-87.643023</td>\n",
       "      <td>41.943237</td>\n",
       "      <td>-87.643471</td>\n",
       "      <td>0.001887</td>\n",
       "      <td>0.015828</td>\n",
       "      <td>H</td>\n",
       "      <td>16</td>\n",
       "      <td>9</td>\n",
       "      <td>6</td>\n",
       "      <td>LAKE VIEW</td>\n",
       "    </tr>\n",
       "  </tbody>\n",
       "</table>\n",
       "<p>5 rows × 22 columns</p>\n",
       "</div>"
      ],
      "text/plain": [
       "   Unnamed: 0 Trip Start Timestamp   Trip End Timestamp  Trip Seconds  \\\n",
       "0           0  2019-01-07 14:30:00  2019-01-07 14:45:00        1167.0   \n",
       "1           3  2019-01-26 18:00:00  2019-01-26 18:15:00        1590.0   \n",
       "2           4  2019-02-10 17:45:00  2019-02-10 18:00:00         977.0   \n",
       "3           5  2019-01-27 12:30:00  2019-01-27 12:45:00         592.0   \n",
       "4           6  2019-03-02 16:15:00  2019-03-02 16:15:00         477.0   \n",
       "\n",
       "   Trip Miles  Fare  Tip  Additional Charges  Trip Total  \\\n",
       "0         3.8  10.0  3.0                2.55       15.55   \n",
       "1         3.8  12.5  0.0                2.55       15.05   \n",
       "2         3.0   7.5  2.0                2.55       12.05   \n",
       "3         2.0   5.0  0.0                2.55        7.55   \n",
       "4         0.9   5.0  0.0                2.55        7.55   \n",
       "\n",
       "   Shared Trip Authorized  ...  Pickup Centroid Longitude  \\\n",
       "0                   False  ...                 -87.653614   \n",
       "1                   False  ...                 -87.637844   \n",
       "2                   False  ...                 -87.641184   \n",
       "3                   False  ...                 -87.646293   \n",
       "4                   False  ...                 -87.643023   \n",
       "\n",
       "   Dropoff Centroid Latitude  Dropoff Centroid Longitude  m_s_ratio  \\\n",
       "0                  41.962179                  -87.645379   0.003256   \n",
       "1                  41.921877                  -87.664078   0.002390   \n",
       "2                  41.885281                  -87.657233   0.003071   \n",
       "3                  41.904935                  -87.649907   0.003378   \n",
       "4                  41.943237                  -87.643471   0.001887   \n",
       "\n",
       "   t_s_ratio  value  hour 2hr_slot  3hr_slot    Pickup_Neighborhood  \n",
       "0   0.013325      L    14        8         5  WICKER PARK,WEST TOWN  \n",
       "1   0.009465      L    18       10         7            RIVER NORTH  \n",
       "2   0.012334      L    17        9         6               OLD TOWN  \n",
       "3   0.012753      L    12        7         5           LINCOLN PARK  \n",
       "4   0.015828      H    16        9         6              LAKE VIEW  \n",
       "\n",
       "[5 rows x 22 columns]"
      ]
     },
     "execution_count": 4,
     "metadata": {},
     "output_type": "execute_result"
    }
   ],
   "source": [
    "trip.head()"
   ]
  },
  {
   "cell_type": "markdown",
   "metadata": {},
   "source": [
    "### Data Cleansing"
   ]
  },
  {
   "cell_type": "code",
   "execution_count": 10,
   "metadata": {
    "colab": {
     "base_uri": "https://localhost:8080/",
     "height": 428
    },
    "colab_type": "code",
    "executionInfo": {
     "elapsed": 19855,
     "status": "ok",
     "timestamp": 1558386715101,
     "user": {
      "displayName": "Valeriya Antonova",
      "photoUrl": "",
      "userId": "02019168927901539710"
     },
     "user_tz": 300
    },
    "id": "PMJDgxiHrC4S",
    "outputId": "76e34d05-b515-4f5c-bfbd-b370a2785a74"
   },
   "outputs": [
    {
     "data": {
      "text/plain": [
       "Unnamed: 0                    165576\n",
       "Trip Start Timestamp          165576\n",
       "Trip End Timestamp            165576\n",
       "Trip Seconds                  165576\n",
       "Trip Miles                    165576\n",
       "Fare                          165576\n",
       "Tip                           165576\n",
       "Additional Charges            165576\n",
       "Trip Total                    165576\n",
       "Shared Trip Authorized        165576\n",
       "Trips Pooled                  165576\n",
       "Pickup Centroid Latitude      165576\n",
       "Pickup Centroid Longitude     165576\n",
       "Dropoff Centroid Latitude     165576\n",
       "Dropoff Centroid Longitude    165576\n",
       "m_s_ratio                     165576\n",
       "t_s_ratio                     165576\n",
       "value                         165576\n",
       "hour                          165576\n",
       "2hr_slot                      165576\n",
       "3hr_slot                      165576\n",
       "Pickup_Neighborhood           165576\n",
       "dtype: int64"
      ]
     },
     "execution_count": 10,
     "metadata": {},
     "output_type": "execute_result"
    }
   ],
   "source": [
    "#Check record counts for each column to ensure consistency\n",
    "trip.count()"
   ]
  },
  {
   "cell_type": "code",
   "execution_count": 6,
   "metadata": {
    "colab": {
     "base_uri": "https://localhost:8080/",
     "height": 428
    },
    "colab_type": "code",
    "executionInfo": {
     "elapsed": 19855,
     "status": "ok",
     "timestamp": 1558386715101,
     "user": {
      "displayName": "Valeriya Antonova",
      "photoUrl": "",
      "userId": "02019168927901539710"
     },
     "user_tz": 300
    },
    "id": "PMJDgxiHrC4S",
    "outputId": "76e34d05-b515-4f5c-bfbd-b370a2785a74"
   },
   "outputs": [],
   "source": [
    "#Drop rows with na value\n",
    "trip = trip.dropna()"
   ]
  },
  {
   "cell_type": "code",
   "execution_count": 11,
   "metadata": {
    "colab": {
     "base_uri": "https://localhost:8080/",
     "height": 428
    },
    "colab_type": "code",
    "executionInfo": {
     "elapsed": 19855,
     "status": "ok",
     "timestamp": 1558386715101,
     "user": {
      "displayName": "Valeriya Antonova",
      "photoUrl": "",
      "userId": "02019168927901539710"
     },
     "user_tz": 300
    },
    "id": "PMJDgxiHrC4S",
    "outputId": "76e34d05-b515-4f5c-bfbd-b370a2785a74"
   },
   "outputs": [
    {
     "data": {
      "text/plain": [
       "Unnamed: 0                    165576\n",
       "Trip Start Timestamp          165576\n",
       "Trip End Timestamp            165576\n",
       "Trip Seconds                  165576\n",
       "Trip Miles                    165576\n",
       "Fare                          165576\n",
       "Tip                           165576\n",
       "Additional Charges            165576\n",
       "Trip Total                    165576\n",
       "Shared Trip Authorized        165576\n",
       "Trips Pooled                  165576\n",
       "Pickup Centroid Latitude      165576\n",
       "Pickup Centroid Longitude     165576\n",
       "Dropoff Centroid Latitude     165576\n",
       "Dropoff Centroid Longitude    165576\n",
       "m_s_ratio                     165576\n",
       "t_s_ratio                     165576\n",
       "value                         165576\n",
       "hour                          165576\n",
       "2hr_slot                      165576\n",
       "3hr_slot                      165576\n",
       "Pickup_Neighborhood           165576\n",
       "dtype: int64"
      ]
     },
     "execution_count": 11,
     "metadata": {},
     "output_type": "execute_result"
    }
   ],
   "source": [
    "#Check record counts\n",
    "trip.count()"
   ]
  },
  {
   "cell_type": "code",
   "execution_count": 7,
   "metadata": {
    "colab": {
     "base_uri": "https://localhost:8080/",
     "height": 428
    },
    "colab_type": "code",
    "executionInfo": {
     "elapsed": 19855,
     "status": "ok",
     "timestamp": 1558386715101,
     "user": {
      "displayName": "Valeriya Antonova",
      "photoUrl": "",
      "userId": "02019168927901539710"
     },
     "user_tz": 300
    },
    "id": "PMJDgxiHrC4S",
    "outputId": "76e34d05-b515-4f5c-bfbd-b370a2785a74"
   },
   "outputs": [
    {
     "data": {
      "text/html": [
       "<div>\n",
       "<style scoped>\n",
       "    .dataframe tbody tr th:only-of-type {\n",
       "        vertical-align: middle;\n",
       "    }\n",
       "\n",
       "    .dataframe tbody tr th {\n",
       "        vertical-align: top;\n",
       "    }\n",
       "\n",
       "    .dataframe thead th {\n",
       "        text-align: right;\n",
       "    }\n",
       "</style>\n",
       "<table border=\"1\" class=\"dataframe\">\n",
       "  <thead>\n",
       "    <tr style=\"text-align: right;\">\n",
       "      <th></th>\n",
       "      <th>Unnamed: 0</th>\n",
       "      <th>Trip Start Timestamp</th>\n",
       "      <th>Trip End Timestamp</th>\n",
       "      <th>Trip Seconds</th>\n",
       "      <th>Trip Miles</th>\n",
       "      <th>Fare</th>\n",
       "      <th>Tip</th>\n",
       "      <th>Additional Charges</th>\n",
       "      <th>Trip Total</th>\n",
       "      <th>Shared Trip Authorized</th>\n",
       "      <th>...</th>\n",
       "      <th>Pickup Centroid Longitude</th>\n",
       "      <th>Dropoff Centroid Latitude</th>\n",
       "      <th>Dropoff Centroid Longitude</th>\n",
       "      <th>m_s_ratio</th>\n",
       "      <th>t_s_ratio</th>\n",
       "      <th>value</th>\n",
       "      <th>hour</th>\n",
       "      <th>2hr_slot</th>\n",
       "      <th>3hr_slot</th>\n",
       "      <th>Pickup_Neighborhood</th>\n",
       "    </tr>\n",
       "  </thead>\n",
       "  <tbody>\n",
       "    <tr>\n",
       "      <th>0</th>\n",
       "      <td>0</td>\n",
       "      <td>2019-01-07 14:30:00</td>\n",
       "      <td>2019-01-07 14:45:00</td>\n",
       "      <td>1167.0</td>\n",
       "      <td>3.8</td>\n",
       "      <td>10.0</td>\n",
       "      <td>3.0</td>\n",
       "      <td>2.55</td>\n",
       "      <td>15.55</td>\n",
       "      <td>False</td>\n",
       "      <td>...</td>\n",
       "      <td>-87.653614</td>\n",
       "      <td>41.962179</td>\n",
       "      <td>-87.645379</td>\n",
       "      <td>0.003256</td>\n",
       "      <td>0.013325</td>\n",
       "      <td>L</td>\n",
       "      <td>14</td>\n",
       "      <td>8</td>\n",
       "      <td>5</td>\n",
       "      <td>WICKER PARK,WEST TOWN</td>\n",
       "    </tr>\n",
       "    <tr>\n",
       "      <th>1</th>\n",
       "      <td>3</td>\n",
       "      <td>2019-01-26 18:00:00</td>\n",
       "      <td>2019-01-26 18:15:00</td>\n",
       "      <td>1590.0</td>\n",
       "      <td>3.8</td>\n",
       "      <td>12.5</td>\n",
       "      <td>0.0</td>\n",
       "      <td>2.55</td>\n",
       "      <td>15.05</td>\n",
       "      <td>False</td>\n",
       "      <td>...</td>\n",
       "      <td>-87.637844</td>\n",
       "      <td>41.921877</td>\n",
       "      <td>-87.664078</td>\n",
       "      <td>0.002390</td>\n",
       "      <td>0.009465</td>\n",
       "      <td>L</td>\n",
       "      <td>18</td>\n",
       "      <td>10</td>\n",
       "      <td>7</td>\n",
       "      <td>RIVER NORTH</td>\n",
       "    </tr>\n",
       "    <tr>\n",
       "      <th>2</th>\n",
       "      <td>4</td>\n",
       "      <td>2019-02-10 17:45:00</td>\n",
       "      <td>2019-02-10 18:00:00</td>\n",
       "      <td>977.0</td>\n",
       "      <td>3.0</td>\n",
       "      <td>7.5</td>\n",
       "      <td>2.0</td>\n",
       "      <td>2.55</td>\n",
       "      <td>12.05</td>\n",
       "      <td>False</td>\n",
       "      <td>...</td>\n",
       "      <td>-87.641184</td>\n",
       "      <td>41.885281</td>\n",
       "      <td>-87.657233</td>\n",
       "      <td>0.003071</td>\n",
       "      <td>0.012334</td>\n",
       "      <td>L</td>\n",
       "      <td>17</td>\n",
       "      <td>9</td>\n",
       "      <td>6</td>\n",
       "      <td>OLD TOWN</td>\n",
       "    </tr>\n",
       "    <tr>\n",
       "      <th>3</th>\n",
       "      <td>5</td>\n",
       "      <td>2019-01-27 12:30:00</td>\n",
       "      <td>2019-01-27 12:45:00</td>\n",
       "      <td>592.0</td>\n",
       "      <td>2.0</td>\n",
       "      <td>5.0</td>\n",
       "      <td>0.0</td>\n",
       "      <td>2.55</td>\n",
       "      <td>7.55</td>\n",
       "      <td>False</td>\n",
       "      <td>...</td>\n",
       "      <td>-87.646293</td>\n",
       "      <td>41.904935</td>\n",
       "      <td>-87.649907</td>\n",
       "      <td>0.003378</td>\n",
       "      <td>0.012753</td>\n",
       "      <td>L</td>\n",
       "      <td>12</td>\n",
       "      <td>7</td>\n",
       "      <td>5</td>\n",
       "      <td>LINCOLN PARK</td>\n",
       "    </tr>\n",
       "    <tr>\n",
       "      <th>4</th>\n",
       "      <td>6</td>\n",
       "      <td>2019-03-02 16:15:00</td>\n",
       "      <td>2019-03-02 16:15:00</td>\n",
       "      <td>477.0</td>\n",
       "      <td>0.9</td>\n",
       "      <td>5.0</td>\n",
       "      <td>0.0</td>\n",
       "      <td>2.55</td>\n",
       "      <td>7.55</td>\n",
       "      <td>False</td>\n",
       "      <td>...</td>\n",
       "      <td>-87.643023</td>\n",
       "      <td>41.943237</td>\n",
       "      <td>-87.643471</td>\n",
       "      <td>0.001887</td>\n",
       "      <td>0.015828</td>\n",
       "      <td>H</td>\n",
       "      <td>16</td>\n",
       "      <td>9</td>\n",
       "      <td>6</td>\n",
       "      <td>LAKE VIEW</td>\n",
       "    </tr>\n",
       "  </tbody>\n",
       "</table>\n",
       "<p>5 rows × 22 columns</p>\n",
       "</div>"
      ],
      "text/plain": [
       "   Unnamed: 0 Trip Start Timestamp   Trip End Timestamp  Trip Seconds  \\\n",
       "0           0  2019-01-07 14:30:00  2019-01-07 14:45:00        1167.0   \n",
       "1           3  2019-01-26 18:00:00  2019-01-26 18:15:00        1590.0   \n",
       "2           4  2019-02-10 17:45:00  2019-02-10 18:00:00         977.0   \n",
       "3           5  2019-01-27 12:30:00  2019-01-27 12:45:00         592.0   \n",
       "4           6  2019-03-02 16:15:00  2019-03-02 16:15:00         477.0   \n",
       "\n",
       "   Trip Miles  Fare  Tip  Additional Charges  Trip Total  \\\n",
       "0         3.8  10.0  3.0                2.55       15.55   \n",
       "1         3.8  12.5  0.0                2.55       15.05   \n",
       "2         3.0   7.5  2.0                2.55       12.05   \n",
       "3         2.0   5.0  0.0                2.55        7.55   \n",
       "4         0.9   5.0  0.0                2.55        7.55   \n",
       "\n",
       "   Shared Trip Authorized  ...  Pickup Centroid Longitude  \\\n",
       "0                   False  ...                 -87.653614   \n",
       "1                   False  ...                 -87.637844   \n",
       "2                   False  ...                 -87.641184   \n",
       "3                   False  ...                 -87.646293   \n",
       "4                   False  ...                 -87.643023   \n",
       "\n",
       "   Dropoff Centroid Latitude  Dropoff Centroid Longitude  m_s_ratio  \\\n",
       "0                  41.962179                  -87.645379   0.003256   \n",
       "1                  41.921877                  -87.664078   0.002390   \n",
       "2                  41.885281                  -87.657233   0.003071   \n",
       "3                  41.904935                  -87.649907   0.003378   \n",
       "4                  41.943237                  -87.643471   0.001887   \n",
       "\n",
       "   t_s_ratio  value  hour 2hr_slot  3hr_slot    Pickup_Neighborhood  \n",
       "0   0.013325      L    14        8         5  WICKER PARK,WEST TOWN  \n",
       "1   0.009465      L    18       10         7            RIVER NORTH  \n",
       "2   0.012334      L    17        9         6               OLD TOWN  \n",
       "3   0.012753      L    12        7         5           LINCOLN PARK  \n",
       "4   0.015828      H    16        9         6              LAKE VIEW  \n",
       "\n",
       "[5 rows x 22 columns]"
      ]
     },
     "execution_count": 7,
     "metadata": {},
     "output_type": "execute_result"
    }
   ],
   "source": [
    "#Filter out shared trips (i.e. Uber pool)\n",
    "trip = trip[trip['Shared Trip Authorized'] == False]\n",
    "\n",
    "#Filter out tripes with 0 trip miles\n",
    "trip = trip[trip['Trip Miles']>0]\n",
    "\n",
    "#Filter out trips with less than 30 seconds trip seconds\n",
    "trip = trip[trip['Trip Seconds']>30]\n",
    "\n",
    "#Filter ouut trips that has odd miles to seconds ratio\n",
    "#assuming the fastest average speed is 72m/h, we will filter out rows with m_s_ratio larger than 0.02\n",
    "trip['m_s_ratio'] = trip['Trip Miles']/trip['Trip Seconds']\n",
    "trip = trip[trip['m_s_ratio']<0.02]\n",
    "\n",
    "#Quick view cleansed data file\n",
    "trip.head()"
   ]
  },
  {
   "cell_type": "code",
   "execution_count": 13,
   "metadata": {
    "colab": {
     "base_uri": "https://localhost:8080/",
     "height": 272
    },
    "colab_type": "code",
    "executionInfo": {
     "elapsed": 6917,
     "status": "ok",
     "timestamp": 1558386726500,
     "user": {
      "displayName": "Valeriya Antonova",
      "photoUrl": "",
      "userId": "02019168927901539710"
     },
     "user_tz": 300
    },
    "id": "2nngZY1tsPFT",
    "outputId": "169aab29-a33f-4030-df89-69468e9c2c55"
   },
   "outputs": [
    {
     "data": {
      "text/plain": [
       "Unnamed: 0                    165576\n",
       "Trip Start Timestamp          165576\n",
       "Trip End Timestamp            165576\n",
       "Trip Seconds                  165576\n",
       "Trip Miles                    165576\n",
       "Fare                          165576\n",
       "Tip                           165576\n",
       "Additional Charges            165576\n",
       "Trip Total                    165576\n",
       "Shared Trip Authorized        165576\n",
       "Trips Pooled                  165576\n",
       "Pickup Centroid Latitude      165576\n",
       "Pickup Centroid Longitude     165576\n",
       "Dropoff Centroid Latitude     165576\n",
       "Dropoff Centroid Longitude    165576\n",
       "m_s_ratio                     165576\n",
       "t_s_ratio                     165576\n",
       "value                         165576\n",
       "hour                          165576\n",
       "2hr_slot                      165576\n",
       "3hr_slot                      165576\n",
       "Pickup_Neighborhood           165576\n",
       "dtype: int64"
      ]
     },
     "execution_count": 13,
     "metadata": {},
     "output_type": "execute_result"
    }
   ],
   "source": [
    "#Check record counts\n",
    "trip.count()"
   ]
  },
  {
   "cell_type": "code",
   "execution_count": 6,
   "metadata": {
    "colab": {
     "base_uri": "https://localhost:8080/",
     "height": 340
    },
    "colab_type": "code",
    "executionInfo": {
     "elapsed": 216,
     "status": "ok",
     "timestamp": 1558386744489,
     "user": {
      "displayName": "Valeriya Antonova",
      "photoUrl": "",
      "userId": "02019168927901539710"
     },
     "user_tz": 300
    },
    "id": "MUFjgBS2tsxH",
    "outputId": "16ac3b5f-d132-472d-fa20-d21e19411a7b"
   },
   "outputs": [
    {
     "name": "stdout",
     "output_type": "stream",
     "text": [
      "<class 'pandas.core.frame.DataFrame'>\n",
      "Int64Index: 165576 entries, 0 to 165580\n",
      "Data columns (total 22 columns):\n",
      "Unnamed: 0                    165576 non-null int64\n",
      "Trip Start Timestamp          165576 non-null object\n",
      "Trip End Timestamp            165576 non-null object\n",
      "Trip Seconds                  165576 non-null int64\n",
      "Trip Miles                    165576 non-null float64\n",
      "Fare                          165576 non-null float64\n",
      "Tip                           165576 non-null int64\n",
      "Additional Charges            165576 non-null float64\n",
      "Trip Total                    165576 non-null float64\n",
      "Shared Trip Authorized        165576 non-null bool\n",
      "Trips Pooled                  165576 non-null int64\n",
      "Pickup Centroid Latitude      165576 non-null float64\n",
      "Pickup Centroid Longitude     165576 non-null float64\n",
      "Dropoff Centroid Latitude     165576 non-null float64\n",
      "Dropoff Centroid Longitude    165576 non-null float64\n",
      "m_s_ratio                     165576 non-null float64\n",
      "t_s_ratio                     165576 non-null float64\n",
      "value                         165576 non-null object\n",
      "hour                          165576 non-null int64\n",
      "2hr_slot                      165576 non-null int64\n",
      "3hr_slot                      165576 non-null int64\n",
      "Pickup_Neighborhood           165576 non-null object\n",
      "dtypes: bool(1), float64(10), int64(7), object(4)\n",
      "memory usage: 27.9+ MB\n"
     ]
    }
   ],
   "source": [
    "#View data types \n",
    "trip.info()"
   ]
  },
  {
   "cell_type": "markdown",
   "metadata": {},
   "source": [
    "### Isolate and create data set for modeling"
   ]
  },
  {
   "cell_type": "code",
   "execution_count": 17,
   "metadata": {},
   "outputs": [
    {
     "data": {
      "text/html": [
       "<div>\n",
       "<style scoped>\n",
       "    .dataframe tbody tr th:only-of-type {\n",
       "        vertical-align: middle;\n",
       "    }\n",
       "\n",
       "    .dataframe tbody tr th {\n",
       "        vertical-align: top;\n",
       "    }\n",
       "\n",
       "    .dataframe thead th {\n",
       "        text-align: right;\n",
       "    }\n",
       "</style>\n",
       "<table border=\"1\" class=\"dataframe\">\n",
       "  <thead>\n",
       "    <tr style=\"text-align: right;\">\n",
       "      <th></th>\n",
       "      <th>Trip Total</th>\n",
       "      <th>Pickup Centroid Latitude</th>\n",
       "      <th>Pickup Centroid Longitude</th>\n",
       "    </tr>\n",
       "  </thead>\n",
       "  <tbody>\n",
       "    <tr>\n",
       "      <th>0</th>\n",
       "      <td>15.55</td>\n",
       "      <td>41.898306</td>\n",
       "      <td>-87.653614</td>\n",
       "    </tr>\n",
       "    <tr>\n",
       "      <th>1</th>\n",
       "      <td>15.05</td>\n",
       "      <td>41.893216</td>\n",
       "      <td>-87.637844</td>\n",
       "    </tr>\n",
       "    <tr>\n",
       "      <th>2</th>\n",
       "      <td>12.05</td>\n",
       "      <td>41.916473</td>\n",
       "      <td>-87.641184</td>\n",
       "    </tr>\n",
       "    <tr>\n",
       "      <th>3</th>\n",
       "      <td>7.55</td>\n",
       "      <td>41.929078</td>\n",
       "      <td>-87.646293</td>\n",
       "    </tr>\n",
       "    <tr>\n",
       "      <th>4</th>\n",
       "      <td>7.55</td>\n",
       "      <td>41.934540</td>\n",
       "      <td>-87.643023</td>\n",
       "    </tr>\n",
       "  </tbody>\n",
       "</table>\n",
       "</div>"
      ],
      "text/plain": [
       "   Trip Total  Pickup Centroid Latitude  Pickup Centroid Longitude\n",
       "0       15.55                 41.898306                 -87.653614\n",
       "1       15.05                 41.893216                 -87.637844\n",
       "2       12.05                 41.916473                 -87.641184\n",
       "3        7.55                 41.929078                 -87.646293\n",
       "4        7.55                 41.934540                 -87.643023"
      ]
     },
     "execution_count": 17,
     "metadata": {},
     "output_type": "execute_result"
    }
   ],
   "source": [
    "#Limit data to relative modeling features\n",
    "new_dataset = trip.loc[:, ['Trip Total','Pickup Centroid Latitude','Pickup Centroid Longitude']]\n",
    "\n",
    "#Quick view of new_dataset\n",
    "new_dataset.head()"
   ]
  },
  {
   "cell_type": "code",
   "execution_count": 18,
   "metadata": {},
   "outputs": [],
   "source": [
    "#Rename dataset columns\n",
    "new_dataset.columns = ['trip_total','latitude','longitude']\n",
    "\n",
    "#Change dataframe name\n",
    "X_org = new_dataset\n",
    "\n",
    "X_org = new_dataset.loc[:, ['latitude','longitude','trip_total']]"
   ]
  },
  {
   "cell_type": "code",
   "execution_count": 20,
   "metadata": {},
   "outputs": [],
   "source": [
    "#Take sample of data for visualization (space constraints on map)\n",
    "X=X_org.sample(n=100,replace=\"False\")\n",
    "\n",
    "#Create arrays for individual columns\n",
    "X1 = pd.Series(X.latitude)\n",
    "X2 = pd.Series(X.longitude)\n",
    "X3 = pd.Series(X.trip_total)"
   ]
  },
  {
   "cell_type": "markdown",
   "metadata": {},
   "source": [
    "### Weighting of trip pick up coordinates based on value of trip \n",
    "i.e. 10 dollar trip repeated 10 times, 100 dollar trip repeated 100 times, etc.\n",
    "The only modeling features left are the 2 dimensional coordinates replicated to represent \"trip weighting\" in KMeans"
   ]
  },
  {
   "cell_type": "code",
   "execution_count": 39,
   "metadata": {},
   "outputs": [
    {
     "data": {
      "text/html": [
       "<div>\n",
       "<style scoped>\n",
       "    .dataframe tbody tr th:only-of-type {\n",
       "        vertical-align: middle;\n",
       "    }\n",
       "\n",
       "    .dataframe tbody tr th {\n",
       "        vertical-align: top;\n",
       "    }\n",
       "\n",
       "    .dataframe thead th {\n",
       "        text-align: right;\n",
       "    }\n",
       "</style>\n",
       "<table border=\"1\" class=\"dataframe\">\n",
       "  <thead>\n",
       "    <tr style=\"text-align: right;\">\n",
       "      <th></th>\n",
       "      <th>latitude</th>\n",
       "      <th>longitude</th>\n",
       "    </tr>\n",
       "  </thead>\n",
       "  <tbody>\n",
       "    <tr>\n",
       "      <th>110327</th>\n",
       "      <td>41.986953</td>\n",
       "      <td>-87.672081</td>\n",
       "    </tr>\n",
       "    <tr>\n",
       "      <th>110327</th>\n",
       "      <td>41.986953</td>\n",
       "      <td>-87.672081</td>\n",
       "    </tr>\n",
       "    <tr>\n",
       "      <th>110327</th>\n",
       "      <td>41.986953</td>\n",
       "      <td>-87.672081</td>\n",
       "    </tr>\n",
       "    <tr>\n",
       "      <th>110327</th>\n",
       "      <td>41.986953</td>\n",
       "      <td>-87.672081</td>\n",
       "    </tr>\n",
       "    <tr>\n",
       "      <th>110327</th>\n",
       "      <td>41.986953</td>\n",
       "      <td>-87.672081</td>\n",
       "    </tr>\n",
       "  </tbody>\n",
       "</table>\n",
       "</div>"
      ],
      "text/plain": [
       "         latitude  longitude\n",
       "110327  41.986953 -87.672081\n",
       "110327  41.986953 -87.672081\n",
       "110327  41.986953 -87.672081\n",
       "110327  41.986953 -87.672081\n",
       "110327  41.986953 -87.672081"
      ]
     },
     "execution_count": 39,
     "metadata": {},
     "output_type": "execute_result"
    }
   ],
   "source": [
    "#Repeat coordinates X times per total trip value for observation weighting in Kmeans\n",
    "w_lat = X1.repeat(round(X.trip_total))\n",
    "w_lon = X2.repeat(round(X.trip_total))\n",
    "\n",
    "#Create final dataframe for modeling\n",
    "sample_data = pd.concat([w_lat, w_lon], axis=1)\n",
    "\n",
    "#View sample of dataframe\n",
    "sample_data.head()"
   ]
  },
  {
   "cell_type": "markdown",
   "metadata": {},
   "source": [
    "### Define number of nodes for model review \n",
    "i.e. 5 hubs for central densisty determination"
   ]
  },
  {
   "cell_type": "code",
   "execution_count": 33,
   "metadata": {},
   "outputs": [],
   "source": [
    "#Set n to number of nodes(hubs)\n",
    "n = 4"
   ]
  },
  {
   "cell_type": "markdown",
   "metadata": {},
   "source": [
    "### *Optional - Use elbow method to determine \"optimal\" number of clusters"
   ]
  },
  {
   "cell_type": "code",
   "execution_count": 51,
   "metadata": {},
   "outputs": [
    {
     "data": {
      "image/png": "[encoded data removed]",
      "text/plain": [
       "<Figure size 576x576 with 1 Axes>"
      ]
     },
     "metadata": {
      "needs_background": "light"
     },
     "output_type": "display_data"
    },
    {
     "ename": "NameError",
     "evalue": "name 'wcss' is not defined",
     "output_type": "error",
     "traceback": [
      "\u001b[1;31m---------------------------------------------------------------------------\u001b[0m",
      "\u001b[1;31mNameError\u001b[0m                                 Traceback (most recent call last)",
      "\u001b[1;32m<ipython-input-51-984566cd461d>\u001b[0m in \u001b[0;36m<module>\u001b[1;34m\u001b[0m\n\u001b[0;32m     26\u001b[0m \u001b[1;33m\u001b[0m\u001b[0m\n\u001b[0;32m     27\u001b[0m \u001b[1;33m\u001b[0m\u001b[0m\n\u001b[1;32m---> 28\u001b[1;33m \u001b[0mprint\u001b[0m\u001b[1;33m(\u001b[0m\u001b[0mwcss\u001b[0m\u001b[1;33m)\u001b[0m\u001b[1;33m\u001b[0m\u001b[1;33m\u001b[0m\u001b[0m\n\u001b[0m\u001b[0;32m     29\u001b[0m \u001b[1;33m\u001b[0m\u001b[0m\n\u001b[0;32m     30\u001b[0m \u001b[1;33m\u001b[0m\u001b[0m\n",
      "\u001b[1;31mNameError\u001b[0m: name 'wcss' is not defined"
     ]
    }
   ],
   "source": [
    "#Create elbow plot\n",
    "Ks = range(1, 10)\n",
    "kmean = [KMeans(n_clusters=i).fit(X) for i in Ks]\n",
    "\n",
    "def plot_elbow(kmean, X):\n",
    "    centroids = [k.cluster_centers_ for k in kmean]\n",
    "    D_k = [cdist(X, center, 'euclidean') for center in centroids]\n",
    "    dist = [np.min(D,axis=1) for D in D_k]\n",
    "\n",
    "    # Total with-in sum of square\n",
    "    wcss = [sum(d**2) for d in dist]\n",
    "    tss = sum(pdist(X)**2)/X.shape[0]\n",
    "    bss = tss-wcss\n",
    "\n",
    "    #Create plot\n",
    "    plt.subplots(nrows=1, ncols=1, figsize=(8,8))\n",
    "    ax = plt.subplot(1, 1, 1)\n",
    "    ax.plot(Ks, bss/tss*100, 'b*-')\n",
    "    plt.grid(True)\n",
    "    plt.xlabel('Number of clusters')\n",
    "    plt.ylabel('Percentage of variance explained (%)')\n",
    "    plt.title('Elbow for KMeans clustering')\n",
    "    plt.show()\n",
    "\n",
    "plot_elbow(kmean, X)\n",
    "\n",
    "\n"
   ]
  },
  {
   "cell_type": "markdown",
   "metadata": {},
   "source": [
    "### Execute modeling on data"
   ]
  },
  {
   "cell_type": "code",
   "execution_count": 40,
   "metadata": {},
   "outputs": [
    {
     "data": {
      "text/plain": [
       "Pipeline(memory=None,\n",
       "     steps=[('kmeans', KMeans(algorithm='auto', copy_x=True, init='k-means++', max_iter=300,\n",
       "    n_clusters=5, n_init=10, n_jobs=None, precompute_distances='auto',\n",
       "    random_state=None, tol=0.0001, verbose=0))])"
      ]
     },
     "execution_count": 40,
     "metadata": {},
     "output_type": "execute_result"
    }
   ],
   "source": [
    "#Define number of clusters and construct estimator pipeline\n",
    "kmeans1 = KMeans(n_clusters=n)\n",
    "\n",
    "pipeline1 = make_pipeline(kmeans1)\n",
    "\n",
    "#Fit pipeline to sample data\n",
    "pipeline1.fit(sample_data)"
   ]
  },
  {
   "cell_type": "code",
   "execution_count": 41,
   "metadata": {},
   "outputs": [],
   "source": [
    "#Add labels to pipeline\n",
    "Labels1 = pipeline1.predict(sample_data)\n",
    "\n",
    "#Take n cluster centers based on model input and create cluster and label dataframe\n",
    "centers = pd.DataFrame(kmeans1.cluster_centers_)\n",
    "df2 = pd.DataFrame({'Cluster': Labels1, 'latitude': sample_data.latitude,'longitude': sample_data.longitude} )"
   ]
  },
  {
   "cell_type": "markdown",
   "metadata": {},
   "source": [
    "### Create plot of clusters and coordinate assignment"
   ]
  },
  {
   "cell_type": "code",
   "execution_count": 42,
   "metadata": {},
   "outputs": [
    {
     "data": {
      "image/png": "[encoded data removed]",
      "text/plain": [
       "<Figure size 432x288 with 1 Axes>"
      ]
     },
     "metadata": {
      "needs_background": "light"
     },
     "output_type": "display_data"
    },
    {
     "name": "stdout",
     "output_type": "stream",
     "text": [
      "           0          1\n",
      "0  41.891001 -87.653263\n",
      "1  41.799143 -87.707897\n",
      "2  41.978395 -87.665736\n",
      "3  41.756731 -87.614288\n",
      "4  41.937559 -87.735910\n"
     ]
    }
   ],
   "source": [
    "#Create basic scatter plot for review of clusters and assignments\n",
    "plt.scatter(df2.latitude,df2.longitude, c= df2.Cluster )\n",
    "plt.scatter(centers[0], centers[1], marker=\"x\", color='r')\n",
    "plt.xlabel(\"Latitude\")\n",
    "plt.ylabel(\"Longitude\")\n",
    "plt.show()\n",
    "\n",
    "\n",
    "#Output cluster coordinates\n",
    "print(centers)"
   ]
  },
  {
   "cell_type": "code",
   "execution_count": 50,
   "metadata": {},
   "outputs": [],
   "source": [
    "#Create interactive map visualization color coding cluster values and applying centroids\n",
    "this_map = folium.Map(location=[41.85,-87.69], zoom_start = 8)\n",
    "\n",
    "#Loop through coordinates and apply distinct color per cluster label \n",
    "\n",
    "for index, row in df2.iterrows():\n",
    "    if row['Cluster'] == 0:\n",
    "        folium.CircleMarker(location=[row[\"latitude\"], row[\"longitude\"]], radius = 3, color = 'red').add_to(this_map)\n",
    "        \n",
    "    if row['Cluster'] == 1:\n",
    "        folium.CircleMarker(location=[row[\"latitude\"], row[\"longitude\"]], radius = 3, color = 'orange').add_to(this_map)\n",
    "        \n",
    "    if row['Cluster'] == 2:\n",
    "        folium.CircleMarker(location=[row[\"latitude\"], row[\"longitude\"]], radius = 3, color = 'yellow').add_to(this_map)\n",
    "        \n",
    "    if row['Cluster'] == 3:\n",
    "        folium.CircleMarker(location=[row[\"latitude\"], row[\"longitude\"]], radius = 3, color = 'green').add_to(this_map)\n",
    "        \n",
    "    if row['Cluster'] == 4:\n",
    "        folium.CircleMarker(location=[row[\"latitude\"], row[\"longitude\"]], radius = 3, color = 'blue').add_to(this_map)\n",
    "        \n",
    "    if row['Cluster'] == 5:\n",
    "        folium.CircleMarker(location=[row[\"latitude\"], row[\"longitude\"]], radius = 3, color = 'indigo').add_to(this_map)\n",
    "        \n",
    "    if row['Cluster'] == 6:\n",
    "        folium.CircleMarker(location=[row[\"latitude\"], row[\"longitude\"]], radius = 3, color = 'violet').add_to(this_map)\n",
    "\n",
    "        \n",
    "#Plot centroids for each cluster\n",
    "for index, row in centers.iterrows():\n",
    "    folium.Marker(location = [row[0], row[1]], radius = 10, color = 'black').add_to(this_map)  \n",
    "    \n",
    "\n",
    "\n",
    "\n",
    "#Set map zoom position\n",
    "this_map.fit_bounds(this_map.get_bounds())\n",
    "\n",
    "#Save the map to an HTML file\n",
    "this_map.save('full_html_map_output1.html')\n"
   ]
  }
 ],
 "metadata": {
  "colab": {
   "collapsed_sections": [],
   "name": "DataMining_Final_Project.ipynb",
   "provenance": [],
   "version": "0.3.2"
  },
  "kernelspec": {
   "display_name": "Python 3",
   "language": "python",
   "name": "python3"
  }
 },
 "nbformat": 4,
 "nbformat_minor": 1
}
